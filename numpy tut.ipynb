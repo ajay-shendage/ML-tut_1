{
 "cells": [
  {
   "cell_type": "code",
   "execution_count": 3,
   "id": "f930c3af",
   "metadata": {},
   "outputs": [],
   "source": [
    "import numpy as np"
   ]
  },
  {
   "cell_type": "code",
   "execution_count": 4,
   "id": "05674f72",
   "metadata": {},
   "outputs": [],
   "source": [
    "from time import process_time"
   ]
  },
  {
   "cell_type": "code",
   "execution_count": 10,
   "id": "35e86317",
   "metadata": {},
   "outputs": [],
   "source": [
    "pd.set_option('display.precision', 7)"
   ]
  },
  {
   "cell_type": "code",
   "execution_count": 8,
   "id": "609158a9",
   "metadata": {},
   "outputs": [],
   "source": [
    "import pandas as pd"
   ]
  },
  {
   "cell_type": "code",
   "execution_count": 12,
   "id": "ed8c08c4",
   "metadata": {},
   "outputs": [
    {
     "name": "stdout",
     "output_type": "stream",
     "text": [
      "[1, 2, 3, 4]\n"
     ]
    },
    {
     "data": {
      "text/plain": [
       "list"
      ]
     },
     "execution_count": 12,
     "metadata": {},
     "output_type": "execute_result"
    }
   ],
   "source": [
    "list1 = [1,2,3,4]\n",
    "print(list1)\n",
    "type(list1)"
   ]
  },
  {
   "cell_type": "code",
   "execution_count": 17,
   "id": "9d535c40",
   "metadata": {},
   "outputs": [
    {
     "name": "stdout",
     "output_type": "stream",
     "text": [
      "[1 2 3 4]\n",
      "(4,)\n"
     ]
    },
    {
     "data": {
      "text/plain": [
       "numpy.ndarray"
      ]
     },
     "execution_count": 17,
     "metadata": {},
     "output_type": "execute_result"
    }
   ],
   "source": [
    "np_array = np.array([1,2,3,4])\n",
    "print(np_array)\n",
    "print(np_array.shape)\n",
    "type(np_array)"
   ]
  },
  {
   "cell_type": "code",
   "execution_count": 19,
   "id": "40ca134c",
   "metadata": {},
   "outputs": [
    {
     "name": "stdout",
     "output_type": "stream",
     "text": [
      "[[1 2 3 4]\n",
      " [5 6 7 8]]\n",
      "(2, 4)\n"
     ]
    },
    {
     "data": {
      "text/plain": [
       "numpy.ndarray"
      ]
     },
     "execution_count": 19,
     "metadata": {},
     "output_type": "execute_result"
    }
   ],
   "source": [
    "nparr1 = np.array([(1,2,3,4),(5,6,7,8)])\n",
    "print(nparr1)\n",
    "print(nparr1.shape)\n",
    "type(nparr1)"
   ]
  },
  {
   "cell_type": "code",
   "execution_count": 20,
   "id": "dbf0e198",
   "metadata": {},
   "outputs": [
    {
     "name": "stdout",
     "output_type": "stream",
     "text": [
      "[[1. 2. 3. 4.]\n",
      " [5. 6. 7. 8.]]\n"
     ]
    }
   ],
   "source": [
    "nparr2 = np.array([(1,2,3,4),(5,6,7,8)],dtype=float)\n",
    "print(nparr2)"
   ]
  },
  {
   "cell_type": "code",
   "execution_count": 24,
   "id": "1f6ea94a",
   "metadata": {},
   "outputs": [
    {
     "name": "stdout",
     "output_type": "stream",
     "text": [
      "[[0. 0. 0. 0. 0.]\n",
      " [0. 0. 0. 0. 0.]\n",
      " [0. 0. 0. 0. 0.]\n",
      " [0. 0. 0. 0. 0.]]\n"
     ]
    }
   ],
   "source": [
    "# create a numpy array of Zeroes\n",
    "x = np.zeros((4,5))\n",
    "print(x)"
   ]
  },
  {
   "cell_type": "code",
   "execution_count": 25,
   "id": "95cb8fc0",
   "metadata": {},
   "outputs": [
    {
     "name": "stdout",
     "output_type": "stream",
     "text": [
      "[[1. 1. 1. 1. 1.]\n",
      " [1. 1. 1. 1. 1.]\n",
      " [1. 1. 1. 1. 1.]\n",
      " [1. 1. 1. 1. 1.]]\n"
     ]
    }
   ],
   "source": [
    "y = np.ones((4,5))\n",
    "print(y)"
   ]
  },
  {
   "cell_type": "code",
   "execution_count": 26,
   "id": "8f61bd36",
   "metadata": {},
   "outputs": [
    {
     "name": "stdout",
     "output_type": "stream",
     "text": [
      "[[5 5 5 5 5]\n",
      " [5 5 5 5 5]\n",
      " [5 5 5 5 5]\n",
      " [5 5 5 5 5]]\n"
     ]
    }
   ],
   "source": [
    "z = np.full((4,5),5)\n",
    "print(z)"
   ]
  },
  {
   "cell_type": "code",
   "execution_count": 29,
   "id": "300459b9",
   "metadata": {},
   "outputs": [
    {
     "name": "stdout",
     "output_type": "stream",
     "text": [
      "[[1. 0. 0. 0.]\n",
      " [0. 1. 0. 0.]\n",
      " [0. 0. 1. 0.]\n",
      " [0. 0. 0. 1.]]\n"
     ]
    }
   ],
   "source": [
    "w = np.eye(4)\n",
    "print(w)"
   ]
  },
  {
   "cell_type": "code",
   "execution_count": 30,
   "id": "348bb496",
   "metadata": {},
   "outputs": [
    {
     "name": "stdout",
     "output_type": "stream",
     "text": [
      "[[0.15303374 0.14687862 0.42553985 0.38939424 0.72705991]\n",
      " [0.12330089 0.00259038 0.85672109 0.23047075 0.70129141]\n",
      " [0.46666305 0.25736898 0.15050265 0.72401735 0.69307136]\n",
      " [0.28264426 0.823015   0.82377475 0.12035674 0.28142404]]\n"
     ]
    }
   ],
   "source": [
    "# create a numpy array with random values\n",
    "a = np.random.random((4,5))\n",
    "print(a)"
   ]
  },
  {
   "cell_type": "code",
   "execution_count": 32,
   "id": "f915cc50",
   "metadata": {},
   "outputs": [
    {
     "name": "stdout",
     "output_type": "stream",
     "text": [
      "[[67 91 11 98 67]\n",
      " [65 80 65 64 35]\n",
      " [48 35 66 23 66]\n",
      " [16 73 42 73 44]]\n"
     ]
    }
   ],
   "source": [
    "b = np.random.randint(10,100,(4,5))\n",
    "print(b)"
   ]
  },
  {
   "cell_type": "code",
   "execution_count": 33,
   "id": "a2cb06d7",
   "metadata": {},
   "outputs": [
    {
     "name": "stdout",
     "output_type": "stream",
     "text": [
      "[10. 14. 18. 22. 26. 30.]\n"
     ]
    }
   ],
   "source": [
    "# array of evenly spaced values --> specifying the number of values required\n",
    "c = np.linspace(10,30,6)\n",
    "print(c)"
   ]
  },
  {
   "cell_type": "code",
   "execution_count": 34,
   "id": "c92f87a6",
   "metadata": {},
   "outputs": [
    {
     "name": "stdout",
     "output_type": "stream",
     "text": [
      "[10 16 22 28]\n"
     ]
    }
   ],
   "source": [
    "# array of evenly spaced values --> specifying the step\n",
    "d = np.arange(10,30,6)\n",
    "print(d)"
   ]
  },
  {
   "cell_type": "code",
   "execution_count": 35,
   "id": "2cb7bd2a",
   "metadata": {},
   "outputs": [
    {
     "name": "stdout",
     "output_type": "stream",
     "text": [
      "[1 2 3 4]\n",
      "<class 'numpy.ndarray'>\n",
      "(4,)\n"
     ]
    }
   ],
   "source": [
    "list1 = [1,2,3,4]\n",
    "nparr3 = np.array(list1)\n",
    "print(nparr3)\n",
    "print(type(nparr3))\n",
    "print(nparr3.shape)"
   ]
  },
  {
   "cell_type": "code",
   "execution_count": 38,
   "id": "aff92492",
   "metadata": {},
   "outputs": [
    {
     "name": "stdout",
     "output_type": "stream",
     "text": [
      "[[50 72 21 27 33]\n",
      " [18 28 83 55 37]\n",
      " [57 55 31 12 55]\n",
      " [82 44 35 16 58]]\n"
     ]
    }
   ],
   "source": [
    "e = np.random.randint(10,90,(4,5))\n",
    "print(e)"
   ]
  },
  {
   "cell_type": "code",
   "execution_count": 39,
   "id": "3d4fec7e",
   "metadata": {},
   "outputs": [
    {
     "data": {
      "text/plain": [
       "dtype('int32')"
      ]
     },
     "execution_count": 39,
     "metadata": {},
     "output_type": "execute_result"
    }
   ],
   "source": [
    "# array dimension\n",
    "e.shape\n",
    "# no of dimension\n",
    "e.ndim\n",
    "# no of element\n",
    "e.size\n",
    "# data type\n",
    "e.dtype"
   ]
  },
  {
   "cell_type": "code",
   "execution_count": 40,
   "id": "5c771492",
   "metadata": {},
   "outputs": [
    {
     "name": "stdout",
     "output_type": "stream",
     "text": [
      "[[26 22 25]\n",
      " [17 21 17]\n",
      " [21 21 16]]\n",
      "[[10  6 13]\n",
      " [ 3 15 11]\n",
      " [13 11 12]]\n",
      "[[2.25       1.75       3.16666667]\n",
      " [1.42857143 6.         4.66666667]\n",
      " [4.25       3.2        7.        ]]\n",
      "[[144 112 114]\n",
      " [ 70  54  42]\n",
      " [ 68  80  28]]\n"
     ]
    }
   ],
   "source": [
    "nparr4 = np.random.randint(0,10,(3,3))\n",
    "nparr5 = np.random.randint(10,20,(3,3))\n",
    "\n",
    "print(nparr4+nparr5)\n",
    "print(nparr5-nparr4)\n",
    "print(nparr5/nparr4)\n",
    "print(nparr5*nparr4)"
   ]
  },
  {
   "cell_type": "code",
   "execution_count": 44,
   "id": "ea46f90f",
   "metadata": {},
   "outputs": [
    {
     "name": "stdout",
     "output_type": "stream",
     "text": [
      "[[26 22 25]\n",
      " [17 21 17]\n",
      " [21 21 16]]\n",
      "[[10  6 13]\n",
      " [ 3 15 11]\n",
      " [13 11 12]]\n",
      "[[2.25       1.75       3.16666667]\n",
      " [1.42857143 6.         4.66666667]\n",
      " [4.25       3.2        7.        ]]\n",
      "[[144 112 114]\n",
      " [ 70  54  42]\n",
      " [ 68  80  28]]\n"
     ]
    }
   ],
   "source": [
    "print(np.add(nparr4,nparr5))\n",
    "print(np.subtract(nparr5,nparr4))\n",
    "print(np.divide(nparr5,nparr4))\n",
    "print(np.multiply(nparr5,nparr4))"
   ]
  },
  {
   "cell_type": "code",
   "execution_count": 47,
   "id": "a15c0b66",
   "metadata": {},
   "outputs": [
    {
     "name": "stdout",
     "output_type": "stream",
     "text": [
      "[[18 19 11]\n",
      " [18 12 18]\n",
      " [14 16 18]\n",
      " [14 16 13]]\n",
      "[[18 18 14 14]\n",
      " [19 12 16 16]\n",
      " [11 18 18 13]]\n",
      "(3, 4)\n",
      "[[18 18 14 14]\n",
      " [19 12 16 16]\n",
      " [11 18 18 13]]\n",
      "(3, 4)\n"
     ]
    }
   ],
   "source": [
    "nparr6 = np.random.randint(10,20,(4,3))\n",
    "print(nparr6)\n",
    "# transpose of matrix\n",
    "\n",
    "arr = np.transpose(nparr6)\n",
    "print(arr)\n",
    "print(arr.shape)\n",
    "\n",
    "# another way to find\n",
    "\n",
    "arr1 = nparr6.T\n",
    "print(arr1)\n",
    "print(arr1.shape)"
   ]
  },
  {
   "cell_type": "code",
   "execution_count": 53,
   "id": "427675c0",
   "metadata": {},
   "outputs": [
    {
     "name": "stdout",
     "output_type": "stream",
     "text": [
      "[[5 1 1]\n",
      " [4 0 0]]\n",
      "[[5 1]\n",
      " [1 4]\n",
      " [0 0]]\n"
     ]
    }
   ],
   "source": [
    "# reshaping an array\n",
    "\n",
    "nparr7 = np.random.randint(0,10,(2,3))\n",
    "nparr8 = nparr7.reshape(3,2) \n",
    "print(nparr7)   \n",
    "print(nparr8)"
   ]
  },
  {
   "cell_type": "code",
   "execution_count": null,
   "id": "00a646cb",
   "metadata": {},
   "outputs": [],
   "source": []
  }
 ],
 "metadata": {
  "kernelspec": {
   "display_name": "Python 3 (ipykernel)",
   "language": "python",
   "name": "python3"
  },
  "language_info": {
   "codemirror_mode": {
    "name": "ipython",
    "version": 3
   },
   "file_extension": ".py",
   "mimetype": "text/x-python",
   "name": "python",
   "nbconvert_exporter": "python",
   "pygments_lexer": "ipython3",
   "version": "3.9.16"
  }
 },
 "nbformat": 4,
 "nbformat_minor": 5
}
